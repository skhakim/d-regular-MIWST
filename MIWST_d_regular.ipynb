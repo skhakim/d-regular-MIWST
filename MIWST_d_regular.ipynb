{
  "cells": [
    {
      "cell_type": "code",
      "execution_count": 1,
      "metadata": {
        "id": "iEVyM4yco43i"
      },
      "outputs": [],
      "source": [
        "from numpy.random import randint\n",
        "from scipy import stats"
      ]
    },
    {
      "cell_type": "code",
      "execution_count": 2,
      "metadata": {
        "id": "LJ2eMhlLfayy"
      },
      "outputs": [],
      "source": [
        "import numpy as np\n",
        "from matplotlib import pyplot as plt\n",
        "import networkx as nx"
      ]
    },
    {
      "cell_type": "code",
      "execution_count": 3,
      "metadata": {
        "id": "1r7TIVer_L4b"
      },
      "outputs": [],
      "source": [
        "def precalc(g):\n",
        "  '''\n",
        "    randomly initializes weight\n",
        "    marks each node unvisited\n",
        "    it was 200 before the experiment of 20 vertices network\n",
        "  '''\n",
        "  attrs = dict()\n",
        "  for i in g.nodes:s\n",
        "    attrs[i] = {\"weight\":randint(998025, 998040), \"vis\":0}\n",
        "  nx.set_node_attributes(g, attrs)"
      ]
    },
    {
      "cell_type": "code",
      "execution_count": 4,
      "metadata": {
        "id": "DdIwev8UpDpk"
      },
      "outputs": [],
      "source": [
        "def root_finder(G):\n",
        "  '''\n",
        "    this function finds the node with the minimum weight of the closed neighborhood.\n",
        "  '''\n",
        "  att = dict()\n",
        "  min_val = np.PINF\n",
        "  min_key = None\n",
        "  for i in G.nodes:\n",
        "    att[i] = {\"nw\":G.nodes[i]['weight'] + sum([G.nodes[j]['weight'] for j in G[i]])}\n",
        "    if min_val > att[i][\"nw\"]:\n",
        "      min_val = att[i][\"nw\"]\n",
        "      min_key = i\n",
        "  nx.set_node_attributes(G, att)\n",
        "  return min_key"
      ]
    },
    {
      "cell_type": "code",
      "execution_count": 5,
      "metadata": {
        "id": "5KHLRfgQrYuO"
      },
      "outputs": [],
      "source": [
        "def draw(G):\n",
        "  labels = {n: str(n) + ';   ' + str(G.nodes[n]['nw'])  + ';   ' + str(G.nodes[n]['weight'])  for n in G.nodes}\n",
        "  colors = [G.nodes[n]['weight'] for n in G.nodes]\n",
        "  nx.draw(G, with_labels=True, labels=labels, node_color=colors)"
      ]
    },
    {
      "cell_type": "code",
      "execution_count": 6,
      "metadata": {
        "id": "bNrPKBp-vU23"
      },
      "outputs": [],
      "source": [
        "def draw_with_edges(G, edgelist):\n",
        "  '''\n",
        "      draws a graph with certain edges highlighted\n",
        "  '''\n",
        "  pos = nx.circular_layout(G)\n",
        "  labels = {n: str(n) + ';   ' + str(G.nodes[n]['nw'])  + ';   ' + str(G.nodes[n]['weight'])  for n in G.nodes}\n",
        "  colors = [G.nodes[n]['weight'] for n in G.nodes]\n",
        "  nx.draw(G, with_labels=True, pos=pos, labels=labels, node_color=colors)\n",
        "  nx.draw_networkx_edges(G, pos=pos, edgelist=edgelist, width=2.5, edge_color='red')"
      ]
    },
    {
      "cell_type": "code",
      "execution_count": 7,
      "metadata": {
        "id": "hBfASL7s_QLl"
      },
      "outputs": [],
      "source": [
        "dfs_tree_edge_list = []"
      ]
    },
    {
      "cell_type": "code",
      "execution_count": 8,
      "metadata": {
        "id": "9KyPl7-8uiae"
      },
      "outputs": [],
      "source": [
        "def dfs_util(G, r):\n",
        "  global dfs_tree_edge_list\n",
        "  ngs = list(G[r].keys())\n",
        "  G.nodes[r][\"vis\"] = 1\n",
        "\n",
        "  max_key = None\n",
        "  max_val = 0\n",
        "\n",
        "  #while len(ngs) != 0:\n",
        "  p = {}\n",
        "  for u in ngs:\n",
        "    _ = sum([G.nodes[i]['vis'] for i in G[u]])+1e-999\n",
        "    p[u] = np.divide(G.nodes[u][\"weight\"], _)\n",
        "\n",
        "  '''\n",
        "    to implement the greedy property, we need to sort\n",
        "    I still have to find how it can be implemented in linear time\n",
        "  '''\n",
        "  for u in sorted(ngs, key = lambda x : -p[x]):\n",
        "    if G.nodes[u][\"vis\"] == 0:\n",
        "      # print('(', r, ',', u, ')', end = ', ')\n",
        "      dfs_tree_edge_list += [(r, u)]\n",
        "      dfs_util(G, u)"
      ]
    },
    {
      "cell_type": "code",
      "execution_count": 9,
      "metadata": {
        "id": "l4JByFHxpCfQ"
      },
      "outputs": [],
      "source": [
        "def dfs(G):\n",
        "  global dfs_tree_edge_list\n",
        "  dfs_tree_edge_list = []\n",
        "  for i in G.nodes:\n",
        "    G.nodes[i]['vis'] = 0\n",
        "\n",
        "  r = root_finder(G)\n",
        "\n",
        "  dfs_util(G, r)\n",
        ""
      ]
    },
    {
      "cell_type": "markdown",
      "metadata": {
        "id": "_OkYIeI1ij_0"
      },
      "source": [
        "#Experiment for d-regular Graphs"
      ]
    },
    {
      "cell_type": "code",
      "execution_count": 11,
      "metadata": {
        "colab": {
          "base_uri": "https://localhost:8080/"
        },
        "id": "xQZkKPQRijND",
        "outputId": "3145e227-b02f-491b-c80f-4dc2479292ac"
      },
      "outputs": [
        {
          "output_type": "stream",
          "name": "stdout",
          "text": [
            "Calculating for d = 3 :::::: 0 250 500 750 \n",
            "DescribeResult(nobs=1000, minmax=(0.7800004821484052, 0.8700007081934698), mean=0.8255205263752902, variance=0.00024397261550485074, skewness=-0.038988254958069395, kurtosis=-0.22698931017442447)\n",
            "\n",
            "Calculating for d = 4 :::::: 0 250 500 750 \n",
            "DescribeResult(nobs=1000, minmax=(0.7500006387575155, 0.8700003639163183), mean=0.8077905202164831, variance=0.0003721865103683341, skewness=0.0768432503227973, kurtosis=-0.061344222336433774)\n",
            "\n",
            "Calculating for d = 5 :::::: 0 250 500 750 \n",
            "DescribeResult(nobs=1000, minmax=(0.750000475936672, 0.8700005754323876), mean=0.8118904456438254, variance=0.0004117381626845319, skewness=0.05370509644404967, kurtosis=-0.09845731706956995)\n",
            "\n",
            "Calculating for d = 6 :::::: 0 250 500 750 \n",
            "DescribeResult(nobs=1000, minmax=(0.7600004593036064, 0.880000476137176), mean=0.8202903994544243, variance=0.00037619090026761793, skewness=0.0521602502079803, kurtosis=0.15637986795245817)\n",
            "\n",
            "Calculating for d = 7 :::::: 0 250 500 750 \n",
            "DescribeResult(nobs=1000, minmax=(0.7700003063026228, 0.9000003015935935), mean=0.8267403696657004, variance=0.0004219932908376019, skewness=0.08429222582496702, kurtosis=-0.13206149837459913)\n",
            "\n",
            "Calculating for d = 8 :::::: 0 250 500 750 \n",
            "DescribeResult(nobs=1000, minmax=(0.7800002765441559, 0.9000001763470934), mean=0.8371003266021527, variance=0.00039137994917184563, skewness=0.06648386720385548, kurtosis=-0.0198679365457477)\n",
            "\n",
            "Calculating for d = 9 :::::: 0 250 500 750 \n",
            "DescribeResult(nobs=1000, minmax=(0.7900002346618098, 0.900000307605315), mean=0.8448102991428185, variance=0.000371734558711237, skewness=-0.0817530741495107, kurtosis=-0.07768083214719113)\n",
            "\n",
            "Calculating for d = 10 :::::: 0 250 500 750 \n",
            "DescribeResult(nobs=1000, minmax=(0.7900001651249858, 0.9100002328584144), mean=0.8530802808267658, variance=0.0003344475133831307, skewness=-0.12189498260356349, kurtosis=0.24588685776133357)\n",
            "\n",
            "Calculating for d = 11 :::::: 0 250 500 750 \n",
            "DescribeResult(nobs=1000, minmax=(0.7800004096060884, 0.9200000388764755), mean=0.8574102597555946, variance=0.00035634749797010457, skewness=-0.049365580884021106, kurtosis=0.1776268875922944)\n",
            "\n",
            "Calculating for d = 12 :::::: 0 250 500 750 \n",
            "DescribeResult(nobs=1000, minmax=(0.8200000641261811, 0.9100004352565152), mean=0.8637002458480274, variance=0.00030701612927818393, skewness=-0.03148758777799865, kurtosis=-0.2926578868122691)\n",
            "\n",
            "Calculating for d = 13 :::::: 0 250 500 750 \n",
            "DescribeResult(nobs=1000, minmax=(0.8200002510943621, 0.9200002132197422), mean=0.871710225062523, variance=0.0002824576390663612, skewness=0.061271976320506114, kurtosis=0.04087383840762859)\n",
            "\n",
            "Calculating for d = 14 :::::: 0 250 500 750 \n",
            "DescribeResult(nobs=1000, minmax=(0.8299999384789006, 0.9200002925758185), mean=0.8750802135520678, variance=0.0002778709148178745, skewness=0.024297163145457417, kurtosis=-0.15165222428643022)\n",
            "\n",
            "Calculating for d = 15 :::::: 0 250 500 750 \n",
            "DescribeResult(nobs=1000, minmax=(0.8300000700378717, 0.9400000999968108), mean=0.8768402144934226, variance=0.00030692053954389754, skewness=0.05480544349423588, kurtosis=-0.1013456105488344)\n",
            "\n",
            "Calculating for d = 16 :::::: 0 250 500 750 \n",
            "DescribeResult(nobs=1000, minmax=(0.8300002852614201, 0.9400001194350697), mean=0.8808801946642, variance=0.0002885133586438312, skewness=0.026649514544924723, kurtosis=-0.10834621454089755)\n",
            "\n",
            "Calculating for d = 17 :::::: 0 250 500 750 \n",
            "DescribeResult(nobs=1000, minmax=(0.8400002208344498, 0.9400000899770902), mean=0.8855101759150954, variance=0.00025879824754157065, skewness=0.05581862378610375, kurtosis=-0.17609682775964597)\n",
            "\n",
            "Calculating for d = 18 :::::: 0 250 500 750 \n",
            "DescribeResult(nobs=1000, minmax=(0.8400001498950219, 0.9300002557031317), mean=0.8898101697307281, variance=0.0002467100515104819, skewness=-0.07249613830144858, kurtosis=-0.2852922030304472)\n",
            "\n",
            "Calculating for d = 19 :::::: 0 250 500 750 \n",
            "DescribeResult(nobs=1000, minmax=(0.840000062523021, 0.9400002178286235), mean=0.8924901730012639, variance=0.0002495491335595278, skewness=0.022175720537901383, kurtosis=-0.09208831515040394)\n",
            "\n",
            "Calculating for d = 20 :::::: 0 250 500 750 \n",
            "DescribeResult(nobs=1000, minmax=(0.8500001102169069, 0.9500002104142636), mean=0.8949601668461562, variance=0.0002622602089695226, skewness=-0.01333651068046311, kurtosis=-0.10701827727173097)\n",
            "\n"
          ]
        }
      ],
      "source": [
        "vals = []\n",
        "for _d in range(3,21):\n",
        "  values = list()\n",
        "  print('Calculating for d = ' + str(_d), end=' :::::: ')\n",
        "  for j in range(1000):\n",
        "    if j % 250 == 0:\n",
        "      print(j, end = ' ')\n",
        "    reg4_10_j = nx.random_regular_graph(n = 100, d = _d, seed = 2470715)\n",
        "    precalc(reg4_10_j)\n",
        "    dfs(reg4_10_j)\n",
        "    gen_tree = nx.Graph()\n",
        "    gen_tree.add_edges_from(dfs_tree_edge_list)\n",
        "    total = 0\n",
        "    internal = 0\n",
        "    for u in reg4_10_j.nodes:\n",
        "        total += reg4_10_j.nodes[u][\"weight\"]\n",
        "        try:\n",
        "          if gen_tree.degree[u] > 1:\n",
        "            internal += reg4_10_j.nodes[u][\"weight\"]\n",
        "        except:\n",
        "          pass\n",
        "        #print(reg4_10_j.edges)\n",
        "        #print(dfs_tree_edge_list)\n",
        "    val = internal/total\n",
        "    values.append(val)\n",
        "  sd = stats.describe(values)\n",
        "  print('')\n",
        "  print(sd, end='\\n\\n')\n",
        "  vals.append(sd)"
      ]
    },
    {
      "cell_type": "code",
      "execution_count": null,
      "metadata": {
        "id": "G52kDTU6kb5d"
      },
      "outputs": [],
      "source": []
    },
    {
      "cell_type": "code",
      "execution_count": null,
      "metadata": {
        "id": "P_sbm4oEkb8P"
      },
      "outputs": [],
      "source": []
    }
  ],
  "metadata": {
    "colab": {
      "provenance": []
    },
    "kernelspec": {
      "display_name": "Python 3",
      "name": "python3"
    },
    "language_info": {
      "name": "python"
    }
  },
  "nbformat": 4,
  "nbformat_minor": 0
}